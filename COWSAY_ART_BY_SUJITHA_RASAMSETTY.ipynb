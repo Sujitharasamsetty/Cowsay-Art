{
  "nbformat": 4,
  "nbformat_minor": 0,
  "metadata": {
    "colab": {
      "name": "COWSAY ART - BY SUJITHA RASAMSETTY",
      "provenance": [],
      "collapsed_sections": []
    },
    "kernelspec": {
      "name": "python3",
      "display_name": "Python 3"
    },
    "language_info": {
      "name": "python"
    }
  },
  "cells": [
    {
      "cell_type": "code",
      "metadata": {
        "colab": {
          "base_uri": "https://localhost:8080/"
        },
        "id": "uJRK5nR7SJS7",
        "outputId": "69d6f0df-e727-42c9-f927-157e9a476742"
      },
      "source": [
        "pip install cowsay\n"
      ],
      "execution_count": null,
      "outputs": [
        {
          "output_type": "stream",
          "name": "stdout",
          "text": [
            "Collecting cowsay\n",
            "  Downloading cowsay-4.0-py2.py3-none-any.whl (24 kB)\n",
            "Installing collected packages: cowsay\n",
            "Successfully installed cowsay-4.0\n"
          ]
        }
      ]
    },
    {
      "cell_type": "code",
      "metadata": {
        "id": "U203zs7ySXWt"
      },
      "source": [
        "import cowsay"
      ],
      "execution_count": null,
      "outputs": []
    },
    {
      "cell_type": "code",
      "metadata": {
        "colab": {
          "base_uri": "https://localhost:8080/"
        },
        "id": "xH_APBliSahx",
        "outputId": "a38b26d7-2f7a-4cd8-9bbd-98d5f2f68b9b"
      },
      "source": [
        "cowsay.daemon(\"Hi Daemon\")"
      ],
      "execution_count": null,
      "outputs": [
        {
          "output_type": "stream",
          "name": "stdout",
          "text": [
            "  _________\n",
            "| Hi Daemon |\n",
            "  =========\n",
            "                 \\\n",
            "                  \\\n",
            "                   \\\n",
            "                    \\\n",
            "                     /- _  `-/  '\n",
            "                    (/\\/ \\ \\   /\\\n",
            "                    / /   | `    \\\n",
            "                    O O   ) /    |\n",
            "                    `-^--'`<     '\n",
            "                   (_.)  _  )   /\n",
            "                    `.___/`    /\n",
            "                      `-----' /\n",
            "         <----.     __ / __   \\\n",
            "         <----|====O)))==) \\) /====\n",
            "         <----'    `--' `.__,' \\\n",
            "                      |        |\n",
            "                       \\       /\n",
            "                 ______( (_  / \\______\n",
            "               ,'  ,-----'   |        \\\n",
            "               `--{__________)        \\/\n"
          ]
        }
      ]
    }
  ]
}